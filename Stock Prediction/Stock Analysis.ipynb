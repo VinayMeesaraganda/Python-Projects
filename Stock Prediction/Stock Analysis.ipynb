{
 "cells": [
  {
   "cell_type": "markdown",
   "id": "5fdddc1f",
   "metadata": {},
   "source": [
    "## Project -1"
   ]
  },
  {
   "cell_type": "code",
   "execution_count": 3,
   "id": "1eaa8c62",
   "metadata": {},
   "outputs": [],
   "source": [
    "#install Yahoo Finance\n",
    "!pip install -q yfinance"
   ]
  },
  {
   "cell_type": "code",
   "execution_count": 58,
   "id": "574c465a",
   "metadata": {},
   "outputs": [],
   "source": [
    "#importing Python Libraries\n",
    "import yfinance as yf\n",
    "import numpy as np\n",
    "import pandas as pd\n",
    "import seaborn as sns\n",
    "import matplotlib.pyplot as plt\n",
    "from sklearn.model_selection import train_test_split\n",
    "from sklearn.metrics import classification_report,confusion_matrix\n",
    "import warnings\n",
    "warnings.filterwarnings('ignore')"
   ]
  },
  {
   "cell_type": "code",
   "execution_count": 201,
   "id": "db25fbc3",
   "metadata": {},
   "outputs": [
    {
     "name": "stdout",
     "output_type": "stream",
     "text": [
      "[*********************100%***********************]  1 of 1 completed\n"
     ]
    }
   ],
   "source": [
    "Cognizant = yf.download(\"CTSH\", start=\"2015-01-01\", end=\"2021-12-31\")"
   ]
  },
  {
   "cell_type": "code",
   "execution_count": 202,
   "id": "84975ec3",
   "metadata": {},
   "outputs": [
    {
     "data": {
      "text/html": [
       "<div>\n",
       "<style scoped>\n",
       "    .dataframe tbody tr th:only-of-type {\n",
       "        vertical-align: middle;\n",
       "    }\n",
       "\n",
       "    .dataframe tbody tr th {\n",
       "        vertical-align: top;\n",
       "    }\n",
       "\n",
       "    .dataframe thead th {\n",
       "        text-align: right;\n",
       "    }\n",
       "</style>\n",
       "<table border=\"1\" class=\"dataframe\">\n",
       "  <thead>\n",
       "    <tr style=\"text-align: right;\">\n",
       "      <th></th>\n",
       "      <th>Open</th>\n",
       "      <th>High</th>\n",
       "      <th>Low</th>\n",
       "      <th>Close</th>\n",
       "      <th>Adj Close</th>\n",
       "      <th>Volume</th>\n",
       "    </tr>\n",
       "    <tr>\n",
       "      <th>Date</th>\n",
       "      <th></th>\n",
       "      <th></th>\n",
       "      <th></th>\n",
       "      <th></th>\n",
       "      <th></th>\n",
       "      <th></th>\n",
       "    </tr>\n",
       "  </thead>\n",
       "  <tbody>\n",
       "    <tr>\n",
       "      <th>2015-01-02 00:00:00-05:00</th>\n",
       "      <td>52.889999</td>\n",
       "      <td>53.770000</td>\n",
       "      <td>52.000000</td>\n",
       "      <td>52.669998</td>\n",
       "      <td>49.282612</td>\n",
       "      <td>2370900</td>\n",
       "    </tr>\n",
       "    <tr>\n",
       "      <th>2015-01-05 00:00:00-05:00</th>\n",
       "      <td>53.970001</td>\n",
       "      <td>53.970001</td>\n",
       "      <td>52.070000</td>\n",
       "      <td>52.340000</td>\n",
       "      <td>48.973831</td>\n",
       "      <td>3017300</td>\n",
       "    </tr>\n",
       "    <tr>\n",
       "      <th>2015-01-06 00:00:00-05:00</th>\n",
       "      <td>52.110001</td>\n",
       "      <td>52.320000</td>\n",
       "      <td>50.709999</td>\n",
       "      <td>50.980000</td>\n",
       "      <td>47.701298</td>\n",
       "      <td>4183800</td>\n",
       "    </tr>\n",
       "    <tr>\n",
       "      <th>2015-01-07 00:00:00-05:00</th>\n",
       "      <td>51.209999</td>\n",
       "      <td>52.680000</td>\n",
       "      <td>51.209999</td>\n",
       "      <td>52.650002</td>\n",
       "      <td>49.263901</td>\n",
       "      <td>4411400</td>\n",
       "    </tr>\n",
       "    <tr>\n",
       "      <th>2015-01-08 00:00:00-05:00</th>\n",
       "      <td>52.840000</td>\n",
       "      <td>54.110001</td>\n",
       "      <td>52.599998</td>\n",
       "      <td>53.880001</td>\n",
       "      <td>50.414791</td>\n",
       "      <td>5570200</td>\n",
       "    </tr>\n",
       "  </tbody>\n",
       "</table>\n",
       "</div>"
      ],
      "text/plain": [
       "                                Open       High        Low      Close  \\\n",
       "Date                                                                    \n",
       "2015-01-02 00:00:00-05:00  52.889999  53.770000  52.000000  52.669998   \n",
       "2015-01-05 00:00:00-05:00  53.970001  53.970001  52.070000  52.340000   \n",
       "2015-01-06 00:00:00-05:00  52.110001  52.320000  50.709999  50.980000   \n",
       "2015-01-07 00:00:00-05:00  51.209999  52.680000  51.209999  52.650002   \n",
       "2015-01-08 00:00:00-05:00  52.840000  54.110001  52.599998  53.880001   \n",
       "\n",
       "                           Adj Close   Volume  \n",
       "Date                                           \n",
       "2015-01-02 00:00:00-05:00  49.282612  2370900  \n",
       "2015-01-05 00:00:00-05:00  48.973831  3017300  \n",
       "2015-01-06 00:00:00-05:00  47.701298  4183800  \n",
       "2015-01-07 00:00:00-05:00  49.263901  4411400  \n",
       "2015-01-08 00:00:00-05:00  50.414791  5570200  "
      ]
     },
     "execution_count": 202,
     "metadata": {},
     "output_type": "execute_result"
    }
   ],
   "source": [
    "#Displaying the First 5 rows of Tesla Dataset\n",
    "Cognizant.head()"
   ]
  },
  {
   "cell_type": "code",
   "execution_count": 205,
   "id": "80684ed2",
   "metadata": {},
   "outputs": [
    {
     "name": "stdout",
     "output_type": "stream",
     "text": [
      "<class 'pandas.core.frame.DataFrame'>\n",
      "DatetimeIndex: 1762 entries, 2015-01-02 00:00:00-05:00 to 2021-12-30 00:00:00-05:00\n",
      "Data columns (total 6 columns):\n",
      " #   Column     Non-Null Count  Dtype  \n",
      "---  ------     --------------  -----  \n",
      " 0   Open       1762 non-null   float64\n",
      " 1   High       1762 non-null   float64\n",
      " 2   Low        1762 non-null   float64\n",
      " 3   Close      1762 non-null   float64\n",
      " 4   Adj Close  1762 non-null   float64\n",
      " 5   Volume     1762 non-null   int64  \n",
      "dtypes: float64(5), int64(1)\n",
      "memory usage: 96.4 KB\n"
     ]
    }
   ],
   "source": [
    "#Finding the datatypes of the dataset \n",
    "Cognizant.info()"
   ]
  },
  {
   "cell_type": "code",
   "execution_count": 206,
   "id": "3835dbf3",
   "metadata": {},
   "outputs": [],
   "source": [
    "#slicing the Data set\n",
    "x=Cognizant.iloc[:,:5]"
   ]
  },
  {
   "cell_type": "code",
   "execution_count": 207,
   "id": "2f5dc2c9",
   "metadata": {},
   "outputs": [
    {
     "data": {
      "text/html": [
       "<div>\n",
       "<style scoped>\n",
       "    .dataframe tbody tr th:only-of-type {\n",
       "        vertical-align: middle;\n",
       "    }\n",
       "\n",
       "    .dataframe tbody tr th {\n",
       "        vertical-align: top;\n",
       "    }\n",
       "\n",
       "    .dataframe thead th {\n",
       "        text-align: right;\n",
       "    }\n",
       "</style>\n",
       "<table border=\"1\" class=\"dataframe\">\n",
       "  <thead>\n",
       "    <tr style=\"text-align: right;\">\n",
       "      <th></th>\n",
       "      <th>Open</th>\n",
       "      <th>High</th>\n",
       "      <th>Low</th>\n",
       "      <th>Close</th>\n",
       "      <th>Adj Close</th>\n",
       "    </tr>\n",
       "    <tr>\n",
       "      <th>Date</th>\n",
       "      <th></th>\n",
       "      <th></th>\n",
       "      <th></th>\n",
       "      <th></th>\n",
       "      <th></th>\n",
       "    </tr>\n",
       "  </thead>\n",
       "  <tbody>\n",
       "    <tr>\n",
       "      <th>2015-01-02 00:00:00-05:00</th>\n",
       "      <td>52.889999</td>\n",
       "      <td>53.770000</td>\n",
       "      <td>52.000000</td>\n",
       "      <td>52.669998</td>\n",
       "      <td>49.282612</td>\n",
       "    </tr>\n",
       "    <tr>\n",
       "      <th>2015-01-05 00:00:00-05:00</th>\n",
       "      <td>53.970001</td>\n",
       "      <td>53.970001</td>\n",
       "      <td>52.070000</td>\n",
       "      <td>52.340000</td>\n",
       "      <td>48.973831</td>\n",
       "    </tr>\n",
       "    <tr>\n",
       "      <th>2015-01-06 00:00:00-05:00</th>\n",
       "      <td>52.110001</td>\n",
       "      <td>52.320000</td>\n",
       "      <td>50.709999</td>\n",
       "      <td>50.980000</td>\n",
       "      <td>47.701298</td>\n",
       "    </tr>\n",
       "    <tr>\n",
       "      <th>2015-01-07 00:00:00-05:00</th>\n",
       "      <td>51.209999</td>\n",
       "      <td>52.680000</td>\n",
       "      <td>51.209999</td>\n",
       "      <td>52.650002</td>\n",
       "      <td>49.263901</td>\n",
       "    </tr>\n",
       "    <tr>\n",
       "      <th>2015-01-08 00:00:00-05:00</th>\n",
       "      <td>52.840000</td>\n",
       "      <td>54.110001</td>\n",
       "      <td>52.599998</td>\n",
       "      <td>53.880001</td>\n",
       "      <td>50.414791</td>\n",
       "    </tr>\n",
       "    <tr>\n",
       "      <th>...</th>\n",
       "      <td>...</td>\n",
       "      <td>...</td>\n",
       "      <td>...</td>\n",
       "      <td>...</td>\n",
       "      <td>...</td>\n",
       "    </tr>\n",
       "    <tr>\n",
       "      <th>2021-12-23 00:00:00-05:00</th>\n",
       "      <td>86.050003</td>\n",
       "      <td>86.970001</td>\n",
       "      <td>85.930000</td>\n",
       "      <td>86.290001</td>\n",
       "      <td>85.362885</td>\n",
       "    </tr>\n",
       "    <tr>\n",
       "      <th>2021-12-27 00:00:00-05:00</th>\n",
       "      <td>86.440002</td>\n",
       "      <td>88.180000</td>\n",
       "      <td>86.360001</td>\n",
       "      <td>88.089996</td>\n",
       "      <td>87.143539</td>\n",
       "    </tr>\n",
       "    <tr>\n",
       "      <th>2021-12-28 00:00:00-05:00</th>\n",
       "      <td>88.269997</td>\n",
       "      <td>88.889999</td>\n",
       "      <td>87.989998</td>\n",
       "      <td>88.730003</td>\n",
       "      <td>87.776672</td>\n",
       "    </tr>\n",
       "    <tr>\n",
       "      <th>2021-12-29 00:00:00-05:00</th>\n",
       "      <td>88.680000</td>\n",
       "      <td>90.080002</td>\n",
       "      <td>88.519997</td>\n",
       "      <td>89.589996</td>\n",
       "      <td>88.627426</td>\n",
       "    </tr>\n",
       "    <tr>\n",
       "      <th>2021-12-30 00:00:00-05:00</th>\n",
       "      <td>89.589996</td>\n",
       "      <td>89.949997</td>\n",
       "      <td>88.830002</td>\n",
       "      <td>88.940002</td>\n",
       "      <td>87.984421</td>\n",
       "    </tr>\n",
       "  </tbody>\n",
       "</table>\n",
       "<p>1762 rows × 5 columns</p>\n",
       "</div>"
      ],
      "text/plain": [
       "                                Open       High        Low      Close  \\\n",
       "Date                                                                    \n",
       "2015-01-02 00:00:00-05:00  52.889999  53.770000  52.000000  52.669998   \n",
       "2015-01-05 00:00:00-05:00  53.970001  53.970001  52.070000  52.340000   \n",
       "2015-01-06 00:00:00-05:00  52.110001  52.320000  50.709999  50.980000   \n",
       "2015-01-07 00:00:00-05:00  51.209999  52.680000  51.209999  52.650002   \n",
       "2015-01-08 00:00:00-05:00  52.840000  54.110001  52.599998  53.880001   \n",
       "...                              ...        ...        ...        ...   \n",
       "2021-12-23 00:00:00-05:00  86.050003  86.970001  85.930000  86.290001   \n",
       "2021-12-27 00:00:00-05:00  86.440002  88.180000  86.360001  88.089996   \n",
       "2021-12-28 00:00:00-05:00  88.269997  88.889999  87.989998  88.730003   \n",
       "2021-12-29 00:00:00-05:00  88.680000  90.080002  88.519997  89.589996   \n",
       "2021-12-30 00:00:00-05:00  89.589996  89.949997  88.830002  88.940002   \n",
       "\n",
       "                           Adj Close  \n",
       "Date                                  \n",
       "2015-01-02 00:00:00-05:00  49.282612  \n",
       "2015-01-05 00:00:00-05:00  48.973831  \n",
       "2015-01-06 00:00:00-05:00  47.701298  \n",
       "2015-01-07 00:00:00-05:00  49.263901  \n",
       "2015-01-08 00:00:00-05:00  50.414791  \n",
       "...                              ...  \n",
       "2021-12-23 00:00:00-05:00  85.362885  \n",
       "2021-12-27 00:00:00-05:00  87.143539  \n",
       "2021-12-28 00:00:00-05:00  87.776672  \n",
       "2021-12-29 00:00:00-05:00  88.627426  \n",
       "2021-12-30 00:00:00-05:00  87.984421  \n",
       "\n",
       "[1762 rows x 5 columns]"
      ]
     },
     "execution_count": 207,
     "metadata": {},
     "output_type": "execute_result"
    }
   ],
   "source": [
    "#Displaying the Dataset after slicing\n",
    "x"
   ]
  },
  {
   "cell_type": "code",
   "execution_count": 208,
   "id": "9a52a269",
   "metadata": {},
   "outputs": [],
   "source": [
    "# Creating the target variable y\n",
    "y = np.where(x['Adj Close'].shift(-1) > x['Adj Close'], 1, -1)\n",
    "# Conveting the array into a dataset\n",
    "y=pd.DataFrame(y)"
   ]
  },
  {
   "cell_type": "code",
   "execution_count": 209,
   "id": "5cbad82e",
   "metadata": {},
   "outputs": [
    {
     "data": {
      "text/html": [
       "<div>\n",
       "<style scoped>\n",
       "    .dataframe tbody tr th:only-of-type {\n",
       "        vertical-align: middle;\n",
       "    }\n",
       "\n",
       "    .dataframe tbody tr th {\n",
       "        vertical-align: top;\n",
       "    }\n",
       "\n",
       "    .dataframe thead th {\n",
       "        text-align: right;\n",
       "    }\n",
       "</style>\n",
       "<table border=\"1\" class=\"dataframe\">\n",
       "  <thead>\n",
       "    <tr style=\"text-align: right;\">\n",
       "      <th></th>\n",
       "      <th>0</th>\n",
       "    </tr>\n",
       "  </thead>\n",
       "  <tbody>\n",
       "    <tr>\n",
       "      <th>0</th>\n",
       "      <td>-1</td>\n",
       "    </tr>\n",
       "    <tr>\n",
       "      <th>1</th>\n",
       "      <td>-1</td>\n",
       "    </tr>\n",
       "    <tr>\n",
       "      <th>2</th>\n",
       "      <td>1</td>\n",
       "    </tr>\n",
       "    <tr>\n",
       "      <th>3</th>\n",
       "      <td>1</td>\n",
       "    </tr>\n",
       "    <tr>\n",
       "      <th>4</th>\n",
       "      <td>1</td>\n",
       "    </tr>\n",
       "    <tr>\n",
       "      <th>...</th>\n",
       "      <td>...</td>\n",
       "    </tr>\n",
       "    <tr>\n",
       "      <th>1757</th>\n",
       "      <td>1</td>\n",
       "    </tr>\n",
       "    <tr>\n",
       "      <th>1758</th>\n",
       "      <td>1</td>\n",
       "    </tr>\n",
       "    <tr>\n",
       "      <th>1759</th>\n",
       "      <td>1</td>\n",
       "    </tr>\n",
       "    <tr>\n",
       "      <th>1760</th>\n",
       "      <td>-1</td>\n",
       "    </tr>\n",
       "    <tr>\n",
       "      <th>1761</th>\n",
       "      <td>-1</td>\n",
       "    </tr>\n",
       "  </tbody>\n",
       "</table>\n",
       "<p>1762 rows × 1 columns</p>\n",
       "</div>"
      ],
      "text/plain": [
       "      0\n",
       "0    -1\n",
       "1    -1\n",
       "2     1\n",
       "3     1\n",
       "4     1\n",
       "...  ..\n",
       "1757  1\n",
       "1758  1\n",
       "1759  1\n",
       "1760 -1\n",
       "1761 -1\n",
       "\n",
       "[1762 rows x 1 columns]"
      ]
     },
     "execution_count": 209,
     "metadata": {},
     "output_type": "execute_result"
    }
   ],
   "source": [
    "y"
   ]
  },
  {
   "cell_type": "code",
   "execution_count": 210,
   "id": "63b1c777",
   "metadata": {},
   "outputs": [],
   "source": [
    "#splitting the dataset into test and train datasets in 80:20 ratio\n",
    "X_train, X_test,Y_train,Y_test = train_test_split(x, y, test_size=0.2)"
   ]
  },
  {
   "cell_type": "code",
   "execution_count": 211,
   "id": "83484483",
   "metadata": {},
   "outputs": [
    {
     "name": "stdout",
     "output_type": "stream",
     "text": [
      "Y_train: \n",
      " 1    715\n",
      "-1    694\n",
      "dtype: int64\n",
      "Y_test: \n",
      " 1    193\n",
      "-1    160\n",
      "dtype: int64\n"
     ]
    }
   ],
   "source": [
    "#displaying the count of distinct values in the target variable.\n",
    "print(f\"Y_train: \\n{Y_train.value_counts()}\")\n",
    "print(f\"Y_test: \\n{Y_test.value_counts()}\")"
   ]
  },
  {
   "cell_type": "markdown",
   "id": "bb487f48",
   "metadata": {},
   "source": [
    "## Strategy-1"
   ]
  },
  {
   "cell_type": "code",
   "execution_count": 212,
   "id": "ee9808b9",
   "metadata": {},
   "outputs": [
    {
     "name": "stdout",
     "output_type": "stream",
     "text": [
      "              precision    recall  f1-score   support\n",
      "\n",
      "          -1       0.47      0.51      0.49       160\n",
      "           1       0.57      0.53      0.55       193\n",
      "\n",
      "    accuracy                           0.52       353\n",
      "   macro avg       0.52      0.52      0.52       353\n",
      "weighted avg       0.52      0.52      0.52       353\n",
      "\n"
     ]
    }
   ],
   "source": [
    "# Importing K-Nearest Neighbor classifier\n",
    "from sklearn.neighbors import KNeighborsClassifier\n",
    "#Assigning the variable to the classifier \n",
    "knn = KNeighborsClassifier()\n",
    "knn.fit(X_train,Y_train)\n",
    "# Predict on dataset which model has not seen before\n",
    "Y_pred=knn.predict(X_test)\n",
    "# print Classification report\n",
    "print(classification_report(Y_test,Y_pred))"
   ]
  },
  {
   "cell_type": "code",
   "execution_count": 213,
   "id": "95235173",
   "metadata": {},
   "outputs": [
    {
     "name": "stdout",
     "output_type": "stream",
     "text": [
      "              precision    recall  f1-score   support\n",
      "\n",
      "          -1       0.46      0.51      0.49       160\n",
      "           1       0.56      0.51      0.53       193\n",
      "\n",
      "    accuracy                           0.51       353\n",
      "   macro avg       0.51      0.51      0.51       353\n",
      "weighted avg       0.51      0.51      0.51       353\n",
      "\n"
     ]
    }
   ],
   "source": [
    "# Importing Random Forest Classifier\n",
    "from sklearn.ensemble import RandomForestClassifier\n",
    "#Assigning the variable to the classifier \n",
    "rf = RandomForestClassifier()\n",
    "rf.fit(X_train,Y_train)\n",
    "# Predict on dataset which model has not seen before\n",
    "Y_pred=rf.predict(X_test)\n",
    "# print Classification report\n",
    "print(classification_report(Y_test,Y_pred))"
   ]
  },
  {
   "cell_type": "code",
   "execution_count": 214,
   "id": "0f408777",
   "metadata": {},
   "outputs": [
    {
     "name": "stdout",
     "output_type": "stream",
     "text": [
      "              precision    recall  f1-score   support\n",
      "\n",
      "          -1       0.38      0.32      0.35       160\n",
      "           1       0.50      0.58      0.54       193\n",
      "\n",
      "    accuracy                           0.46       353\n",
      "   macro avg       0.44      0.45      0.44       353\n",
      "weighted avg       0.45      0.46      0.45       353\n",
      "\n"
     ]
    }
   ],
   "source": [
    "# Importing Gradient Boosting  Classifier\n",
    "from sklearn.ensemble import GradientBoostingClassifier\n",
    "#Assigning the variable to the classifier\n",
    "gb = GradientBoostingClassifier()\n",
    "gb.fit(X_train,Y_train)\n",
    "# Predict on dataset which model has not seen before\n",
    "Y_pred=gb.predict(X_test)\n",
    "# print Classification report\n",
    "print(classification_report(Y_test,Y_pred))"
   ]
  },
  {
   "cell_type": "code",
   "execution_count": 215,
   "id": "2e47d53b",
   "metadata": {},
   "outputs": [
    {
     "name": "stdout",
     "output_type": "stream",
     "text": [
      "              precision    recall  f1-score   support\n",
      "\n",
      "          -1       0.47      0.48      0.47       160\n",
      "           1       0.56      0.54      0.55       193\n",
      "\n",
      "    accuracy                           0.52       353\n",
      "   macro avg       0.51      0.51      0.51       353\n",
      "weighted avg       0.52      0.52      0.52       353\n",
      "\n"
     ]
    }
   ],
   "source": [
    "# Importing Support Vector Machines Classifier\n",
    "from sklearn.svm import SVC\n",
    "#Assigning the variable to the classifier\n",
    "svc = SVC()\n",
    "svc.fit(X_train,Y_train)\n",
    "# Predict on dataset which model has not seen before\n",
    "Y_pred=svc.predict(X_test)\n",
    "# print Classification report\n",
    "print(classification_report(Y_test,Y_pred))"
   ]
  },
  {
   "cell_type": "code",
   "execution_count": 216,
   "id": "ca8c3e95",
   "metadata": {},
   "outputs": [
    {
     "name": "stdout",
     "output_type": "stream",
     "text": [
      "[18:18:40] WARNING: C:/Users/Administrator/workspace/xgboost-win64_release_1.5.1/src/learner.cc:1115: Starting in XGBoost 1.3.0, the default evaluation metric used with the objective 'binary:logistic' was changed from 'error' to 'logloss'. Explicitly set eval_metric if you'd like to restore the old behavior.\n",
      "              precision    recall  f1-score   support\n",
      "\n",
      "          -1       0.46      0.49      0.47       160\n",
      "           1       0.55      0.51      0.53       193\n",
      "\n",
      "    accuracy                           0.50       353\n",
      "   macro avg       0.50      0.50      0.50       353\n",
      "weighted avg       0.51      0.50      0.51       353\n",
      "\n"
     ]
    }
   ],
   "source": [
    "# Importing XG Boost Classifier\n",
    "from xgboost import XGBClassifier\n",
    "#Assigning the variable to the classifier\n",
    "xgb = XGBClassifier()\n",
    "xgb.fit(X_train,Y_train)\n",
    "# Predict on dataset which model has not seen before\n",
    "Y_pred=xgb.predict(X_test)\n",
    "# print Classification report\n",
    "print(classification_report(Y_test,Y_pred))"
   ]
  },
  {
   "cell_type": "markdown",
   "id": "54312b70",
   "metadata": {},
   "source": [
    "## Strategy-2"
   ]
  },
  {
   "cell_type": "code",
   "execution_count": 217,
   "id": "e6fc2e25",
   "metadata": {},
   "outputs": [],
   "source": [
    "#slicing the dataset\n",
    "X_df=x.iloc[:,4:5]"
   ]
  },
  {
   "cell_type": "code",
   "execution_count": 218,
   "id": "d0ea2cf4",
   "metadata": {},
   "outputs": [
    {
     "data": {
      "text/html": [
       "<div>\n",
       "<style scoped>\n",
       "    .dataframe tbody tr th:only-of-type {\n",
       "        vertical-align: middle;\n",
       "    }\n",
       "\n",
       "    .dataframe tbody tr th {\n",
       "        vertical-align: top;\n",
       "    }\n",
       "\n",
       "    .dataframe thead th {\n",
       "        text-align: right;\n",
       "    }\n",
       "</style>\n",
       "<table border=\"1\" class=\"dataframe\">\n",
       "  <thead>\n",
       "    <tr style=\"text-align: right;\">\n",
       "      <th></th>\n",
       "      <th>Adj Close</th>\n",
       "      <th>50_MA</th>\n",
       "      <th>200_MA</th>\n",
       "    </tr>\n",
       "    <tr>\n",
       "      <th>Date</th>\n",
       "      <th></th>\n",
       "      <th></th>\n",
       "      <th></th>\n",
       "    </tr>\n",
       "  </thead>\n",
       "  <tbody>\n",
       "    <tr>\n",
       "      <th>2021-12-23 00:00:00-05:00</th>\n",
       "      <td>85.362885</td>\n",
       "      <td>79.570581</td>\n",
       "      <td>74.817156</td>\n",
       "    </tr>\n",
       "    <tr>\n",
       "      <th>2021-12-27 00:00:00-05:00</th>\n",
       "      <td>87.143539</td>\n",
       "      <td>79.785636</td>\n",
       "      <td>74.871835</td>\n",
       "    </tr>\n",
       "    <tr>\n",
       "      <th>2021-12-28 00:00:00-05:00</th>\n",
       "      <td>87.776672</td>\n",
       "      <td>79.986130</td>\n",
       "      <td>74.922330</td>\n",
       "    </tr>\n",
       "    <tr>\n",
       "      <th>2021-12-29 00:00:00-05:00</th>\n",
       "      <td>88.627426</td>\n",
       "      <td>80.202456</td>\n",
       "      <td>74.983008</td>\n",
       "    </tr>\n",
       "    <tr>\n",
       "      <th>2021-12-30 00:00:00-05:00</th>\n",
       "      <td>87.984421</td>\n",
       "      <td>80.388168</td>\n",
       "      <td>75.040617</td>\n",
       "    </tr>\n",
       "  </tbody>\n",
       "</table>\n",
       "</div>"
      ],
      "text/plain": [
       "                           Adj Close      50_MA     200_MA\n",
       "Date                                                      \n",
       "2021-12-23 00:00:00-05:00  85.362885  79.570581  74.817156\n",
       "2021-12-27 00:00:00-05:00  87.143539  79.785636  74.871835\n",
       "2021-12-28 00:00:00-05:00  87.776672  79.986130  74.922330\n",
       "2021-12-29 00:00:00-05:00  88.627426  80.202456  74.983008\n",
       "2021-12-30 00:00:00-05:00  87.984421  80.388168  75.040617"
      ]
     },
     "execution_count": 218,
     "metadata": {},
     "output_type": "execute_result"
    }
   ],
   "source": [
    "# create 50 days simple moving average column\n",
    "X_df['50_MA'] = X_df['Adj Close'].rolling(window = 50, min_periods = 1).mean()\n",
    "# create 200 days simple moving average column\n",
    "X_df['200_MA'] = X_df['Adj Close'].rolling(window = 200, min_periods = 1).mean()\n",
    "# display first few rows\n",
    "X_df.tail()"
   ]
  },
  {
   "cell_type": "code",
   "execution_count": 219,
   "id": "e7cba892",
   "metadata": {},
   "outputs": [
    {
     "name": "stdout",
     "output_type": "stream",
     "text": [
      "<class 'pandas.core.frame.DataFrame'>\n",
      "DatetimeIndex: 1762 entries, 2015-01-02 00:00:00-05:00 to 2021-12-30 00:00:00-05:00\n",
      "Data columns (total 3 columns):\n",
      " #   Column     Non-Null Count  Dtype  \n",
      "---  ------     --------------  -----  \n",
      " 0   Adj Close  1762 non-null   float64\n",
      " 1   50_MA      1762 non-null   float64\n",
      " 2   200_MA     1762 non-null   float64\n",
      "dtypes: float64(3)\n",
      "memory usage: 55.1 KB\n"
     ]
    }
   ],
   "source": [
    "# Displaying the datatype\n",
    "X_df.info()"
   ]
  },
  {
   "cell_type": "markdown",
   "id": "376e303f",
   "metadata": {},
   "source": [
    "## Applying classifier models"
   ]
  },
  {
   "cell_type": "code",
   "execution_count": 220,
   "id": "fb379694",
   "metadata": {},
   "outputs": [],
   "source": [
    "y1=np.where(X_df['50_MA']> X_df['200_MA'], 1, -1)"
   ]
  },
  {
   "cell_type": "code",
   "execution_count": 221,
   "id": "adb951e2",
   "metadata": {},
   "outputs": [
    {
     "data": {
      "text/html": [
       "<div>\n",
       "<style scoped>\n",
       "    .dataframe tbody tr th:only-of-type {\n",
       "        vertical-align: middle;\n",
       "    }\n",
       "\n",
       "    .dataframe tbody tr th {\n",
       "        vertical-align: top;\n",
       "    }\n",
       "\n",
       "    .dataframe thead th {\n",
       "        text-align: right;\n",
       "    }\n",
       "</style>\n",
       "<table border=\"1\" class=\"dataframe\">\n",
       "  <thead>\n",
       "    <tr style=\"text-align: right;\">\n",
       "      <th></th>\n",
       "      <th>0</th>\n",
       "    </tr>\n",
       "  </thead>\n",
       "  <tbody>\n",
       "    <tr>\n",
       "      <th>0</th>\n",
       "      <td>-1</td>\n",
       "    </tr>\n",
       "    <tr>\n",
       "      <th>1</th>\n",
       "      <td>-1</td>\n",
       "    </tr>\n",
       "    <tr>\n",
       "      <th>2</th>\n",
       "      <td>-1</td>\n",
       "    </tr>\n",
       "    <tr>\n",
       "      <th>3</th>\n",
       "      <td>-1</td>\n",
       "    </tr>\n",
       "    <tr>\n",
       "      <th>4</th>\n",
       "      <td>-1</td>\n",
       "    </tr>\n",
       "    <tr>\n",
       "      <th>...</th>\n",
       "      <td>...</td>\n",
       "    </tr>\n",
       "    <tr>\n",
       "      <th>1757</th>\n",
       "      <td>1</td>\n",
       "    </tr>\n",
       "    <tr>\n",
       "      <th>1758</th>\n",
       "      <td>1</td>\n",
       "    </tr>\n",
       "    <tr>\n",
       "      <th>1759</th>\n",
       "      <td>1</td>\n",
       "    </tr>\n",
       "    <tr>\n",
       "      <th>1760</th>\n",
       "      <td>1</td>\n",
       "    </tr>\n",
       "    <tr>\n",
       "      <th>1761</th>\n",
       "      <td>1</td>\n",
       "    </tr>\n",
       "  </tbody>\n",
       "</table>\n",
       "<p>1762 rows × 1 columns</p>\n",
       "</div>"
      ],
      "text/plain": [
       "      0\n",
       "0    -1\n",
       "1    -1\n",
       "2    -1\n",
       "3    -1\n",
       "4    -1\n",
       "...  ..\n",
       "1757  1\n",
       "1758  1\n",
       "1759  1\n",
       "1760  1\n",
       "1761  1\n",
       "\n",
       "[1762 rows x 1 columns]"
      ]
     },
     "execution_count": 221,
     "metadata": {},
     "output_type": "execute_result"
    }
   ],
   "source": [
    "y1=pd.DataFrame(y1)\n",
    "y1"
   ]
  },
  {
   "cell_type": "code",
   "execution_count": 222,
   "id": "077d0746",
   "metadata": {},
   "outputs": [],
   "source": [
    "X_train, X_test,Y_train,Y_test = train_test_split(X_df, y1,test_size=0.2)"
   ]
  },
  {
   "cell_type": "code",
   "execution_count": 223,
   "id": "770cacd3",
   "metadata": {},
   "outputs": [
    {
     "name": "stdout",
     "output_type": "stream",
     "text": [
      "              precision    recall  f1-score   support\n",
      "\n",
      "          -1       0.99      0.98      0.99       181\n",
      "           1       0.98      0.99      0.99       172\n",
      "\n",
      "    accuracy                           0.99       353\n",
      "   macro avg       0.99      0.99      0.99       353\n",
      "weighted avg       0.99      0.99      0.99       353\n",
      "\n"
     ]
    }
   ],
   "source": [
    "# Importing K-Nearest Neighbor classifier\n",
    "from sklearn.neighbors import KNeighborsClassifier\n",
    "#Assigning the variable to the classifier \n",
    "knn = KNeighborsClassifier()\n",
    "knn.fit(X_train,Y_train)\n",
    "# Predict on dataset which model has not seen before\n",
    "Y_pred=knn.predict(X_test)\n",
    "# print Classification report\n",
    "print(classification_report(Y_test,Y_pred))"
   ]
  },
  {
   "cell_type": "code",
   "execution_count": 224,
   "id": "57c418a7",
   "metadata": {},
   "outputs": [
    {
     "name": "stdout",
     "output_type": "stream",
     "text": [
      "              precision    recall  f1-score   support\n",
      "\n",
      "          -1       0.98      0.99      0.99       181\n",
      "           1       0.99      0.98      0.99       172\n",
      "\n",
      "    accuracy                           0.99       353\n",
      "   macro avg       0.99      0.99      0.99       353\n",
      "weighted avg       0.99      0.99      0.99       353\n",
      "\n"
     ]
    }
   ],
   "source": [
    "# Importing Random Forest Classifier\n",
    "from sklearn.ensemble import RandomForestClassifier\n",
    "#Assigning the variable to the classifier \n",
    "rf = RandomForestClassifier()\n",
    "rf.fit(X_train,Y_train)\n",
    "# Predict on dataset which model has not seen before\n",
    "Y_pred=rf.predict(X_test)\n",
    "# print Classification report\n",
    "print(classification_report(Y_test,Y_pred))"
   ]
  },
  {
   "cell_type": "code",
   "execution_count": 225,
   "id": "cde97318",
   "metadata": {},
   "outputs": [
    {
     "name": "stdout",
     "output_type": "stream",
     "text": [
      "              precision    recall  f1-score   support\n",
      "\n",
      "          -1       0.99      0.97      0.98       181\n",
      "           1       0.97      0.99      0.98       172\n",
      "\n",
      "    accuracy                           0.98       353\n",
      "   macro avg       0.98      0.98      0.98       353\n",
      "weighted avg       0.98      0.98      0.98       353\n",
      "\n"
     ]
    }
   ],
   "source": [
    "# Importing Gradient Boosting  Classifier\n",
    "from sklearn.ensemble import GradientBoostingClassifier\n",
    "#Assigning the variable to the classifier\n",
    "gb = GradientBoostingClassifier()\n",
    "gb.fit(X_train,Y_train)\n",
    "# Predict on dataset which model has not seen before\n",
    "Y_pred=gb.predict(X_test)\n",
    "# print Classification report\n",
    "print(classification_report(Y_test,Y_pred))"
   ]
  },
  {
   "cell_type": "code",
   "execution_count": 226,
   "id": "13fce5dc",
   "metadata": {},
   "outputs": [
    {
     "name": "stdout",
     "output_type": "stream",
     "text": [
      "              precision    recall  f1-score   support\n",
      "\n",
      "          -1       0.94      0.98      0.96       181\n",
      "           1       0.98      0.94      0.96       172\n",
      "\n",
      "    accuracy                           0.96       353\n",
      "   macro avg       0.96      0.96      0.96       353\n",
      "weighted avg       0.96      0.96      0.96       353\n",
      "\n"
     ]
    }
   ],
   "source": [
    "# Importing Support Vector Machines Classifier\n",
    "from sklearn.svm import SVC\n",
    "#Assigning the variable to the classifier\n",
    "svc = SVC()\n",
    "svc.fit(X_train,Y_train)\n",
    "# Predict on dataset which model has not seen before\n",
    "Y_pred=svc.predict(X_test)\n",
    "# print Classification report\n",
    "print(classification_report(Y_test,Y_pred))"
   ]
  },
  {
   "cell_type": "code",
   "execution_count": 227,
   "id": "5e0be2d7",
   "metadata": {},
   "outputs": [
    {
     "name": "stdout",
     "output_type": "stream",
     "text": [
      "[18:18:42] WARNING: C:/Users/Administrator/workspace/xgboost-win64_release_1.5.1/src/learner.cc:1115: Starting in XGBoost 1.3.0, the default evaluation metric used with the objective 'binary:logistic' was changed from 'error' to 'logloss'. Explicitly set eval_metric if you'd like to restore the old behavior.\n",
      "              precision    recall  f1-score   support\n",
      "\n",
      "          -1       0.98      0.97      0.98       181\n",
      "           1       0.97      0.98      0.98       172\n",
      "\n",
      "    accuracy                           0.98       353\n",
      "   macro avg       0.98      0.98      0.98       353\n",
      "weighted avg       0.98      0.98      0.98       353\n",
      "\n"
     ]
    }
   ],
   "source": [
    "# Importing XG Boost Classifier\n",
    "from xgboost import XGBClassifier\n",
    "#Assigning the variable to the classifier\n",
    "xgb = XGBClassifier()\n",
    "xgb.fit(X_train,Y_train)\n",
    "# Predict on dataset which model has not seen before\n",
    "Y_pred=xgb.predict(X_test)\n",
    "# print Classification report\n",
    "print(classification_report(Y_test,Y_pred))"
   ]
  },
  {
   "cell_type": "code",
   "execution_count": 229,
   "id": "3dcaf327",
   "metadata": {},
   "outputs": [
    {
     "data": {
      "text/plain": [
       "<matplotlib.legend.Legend at 0x217b78b5910>"
      ]
     },
     "execution_count": 229,
     "metadata": {},
     "output_type": "execute_result"
    },
    {
     "data": {
      "image/png": "[encoded data removed]",
      "text/plain": [
       "<Figure size 1440x720 with 1 Axes>"
      ]
     },
     "metadata": {
      "needs_background": "light"
     },
     "output_type": "display_data"
    }
   ],
   "source": [
    "import matplotlib.pyplot as plt\n",
    "x_plt=plt.figure(figsize = (20,10))\n",
    "# plot close price, short-term and long-term moving averages \n",
    "ax = plt.axes()\n",
    "ax.set_facecolor(\"Black\")\n",
    "X_df['Adj Close'].plot(color='Gold',linewidth=2,label=' Adj Close_price')\n",
    "X_df['50_MA'].plot(color='Green',linewidth=3,label=\"50 Moving Average\")\n",
    "X_df['200_MA'].plot(color='Red',linewidth=3,label='200 Moving Average')\n",
    "plt.xlabel(\"Year\",fontsize=20)\n",
    "plt.ylabel(\"Price\",fontsize=20)\n",
    "plt.title('50-day moving average vs the 200-day moving average',fontsize=20)\n",
    "plt.legend(loc='upper center',fontsize=15)"
   ]
  },
  {
   "cell_type": "code",
   "execution_count": null,
   "id": "0a4c1081",
   "metadata": {},
   "outputs": [],
   "source": []
  }
 ],
 "metadata": {
  "kernelspec": {
   "display_name": "Python 3 (ipykernel)",
   "language": "python",
   "name": "python3"
  },
  "language_info": {
   "codemirror_mode": {
    "name": "ipython",
    "version": 3
   },
   "file_extension": ".py",
   "mimetype": "text/x-python",
   "name": "python",
   "nbconvert_exporter": "python",
   "pygments_lexer": "ipython3",
   "version": "3.9.7"
  }
 },
 "nbformat": 4,
 "nbformat_minor": 5
}
